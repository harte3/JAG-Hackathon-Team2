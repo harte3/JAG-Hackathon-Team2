{
 "cells": [
  {
   "cell_type": "code",
   "execution_count": 1,
   "metadata": {},
   "outputs": [],
   "source": [
    "import time, os, math, numpy as np, pandas as pd, sklearn as sk, matplotlib as plt\n",
    "# import sqlite3\n",
    "from pandasql import sqldf\n",
    "import seaborn as sns\n",
    "pysqldf = lambda q: sqldf(q, globals())\n",
    "np.random.seed(42)\n",
    "from pandas import get_dummies\n",
    "import matplotlib.pyplot as plt\n",
    "import seaborn as sns\n",
    "from sklearn.model_selection import train_test_split, StratifiedKFold,cross_val_score, cross_validate, GridSearchCV\n",
    "from sklearn.neighbors import KNeighborsClassifier\n",
    "from sklearn.linear_model import LogisticRegression\n",
    "from sklearn.svm import SVC\n",
    "from sklearn.metrics import accuracy_score, confusion_matrix, roc_curve, auc,classification_report, make_scorer, recall_score, mean_squared_error,precision_recall_curve, precision_score, auc\n",
    "from sklearn.metrics import roc_auc_score as ras\n",
    "from sklearn.tree import DecisionTreeClassifier\n",
    "from xgboost import XGBClassifier\n",
    "from sklearn.ensemble import BaggingClassifier, RandomForestClassifier,ExtraTreesClassifier, VotingClassifier, StackingRegressor\n",
    "from sklearn.impute import SimpleImputer, KNNImputer\n",
    "from sklearn.preprocessing import LabelEncoder, OneHotEncoder,StandardScaler, MinMaxScaler, normalize\n",
    "from imblearn.over_sampling import SMOTE, RandomOverSampler\n",
    "import warnings\n",
    "warnings.filterwarnings('ignore')"
   ]
  },
  {
   "cell_type": "code",
   "execution_count": 2,
   "metadata": {},
   "outputs": [],
   "source": [
    "df = pd.read_csv('c:/Users/snooney/Desktop/DOJ Hackathon/final_data_mean.csv')"
   ]
  },
  {
   "cell_type": "code",
   "execution_count": 3,
   "metadata": {},
   "outputs": [],
   "source": [
    "df_remove = ['Estimate_Households_Total',\n",
    "'Estimate_Households_Total_Less than $10,000',\n",
    " 'Estimate_Households_Total_$10,000 to $14,999',\n",
    " 'Estimate_Households_Total_$15,000 to $24,999',\n",
    " 'Estimate_Households_Total_$25,000 to $34,999',\n",
    " 'Estimate_Households_Total_$35,000 to $49,999',\n",
    " 'Estimate_Households_Total_$50,000 to $74,999',\n",
    " 'Estimate_Households_Total_$75,000 to $99,999',\n",
    " 'Estimate_Households_Total_$100,000 to $149,999',\n",
    " 'Estimate_Households_Total_$150,000 to $199,999',\n",
    " 'Estimate_Households_Total_$200,000 or more',\n",
    " 'Total population_Male',\n",
    " 'Total population_Female',\n",
    " 'males per 100 females',\n",
    " 'Percent_Total population_18 years and over',\n",
    " 'Percent_Total population_18 years and over_Male',\n",
    " 'Percent_Total population_18 years and over_Female',\n",
    " 'Percent_Total population_65 years and over_Male',\n",
    " 'Percent_Total population_65 years and over_Female',\n",
    " 'Percent_RACE_Total population_One race_American Indian and Alaska Native',\n",
    " 'Percent_RACE_Total population_One race_American Indian and Alaska Native_Cherokee tribal grouping',\n",
    " 'Percent_RACE_Total population_One race_American Indian and Alaska Native_Chippewa tribal grouping',\n",
    " 'Percent_RACE_Total population_One race_American Indian and Alaska Native_Navajo tribal grouping',\n",
    " 'Percent_RACE_Total population_One race_American Indian and Alaska Native_Sioux tribal grouping',\n",
    " 'Percent_RACE_Total population_One race_Asian',\n",
    " 'Percent_RACE_Total population_One race_Asian_Asian Indian',\n",
    " 'Percent_RACE_Total population_One race_Asian_Chinese',\n",
    " 'Percent_RACE_Total population_One race_Asian_Filipino',\n",
    " 'Percent_RACE_Total population_One race_Asian_Japanese',\n",
    " 'Percent_RACE_Total population_One race_Asian_Korean',\n",
    " 'Percent_RACE_Total population_One race_Asian_Vietnamese',\n",
    " 'Percent_RACE_Total population_One race_Asian_Other Asian',\n",
    " 'Percent_RACE_Total population_One race_Native Hawaiian and Other Pacific Islander',\n",
    " 'Percent_RACE_Total population_One race_Native Hawaiian and Other Pacific Islander_Native Hawaiian',\n",
    " 'Percent_RACE_Total population_One race_Native Hawaiian and Other Pacific Islander_Chamorro',\n",
    " 'Percent_RACE_Total population_One race_Native Hawaiian and Other Pacific Islander_Samoan',\n",
    " 'Percent_RACE_Total population_One race_Native Hawaiian and Other Pacific Islander_Other Pacific Islander',\n",
    " 'Percent_RACE_Total population_One race_Some other race',\n",
    " 'Percent_HISPANIC OR LATINO AND RACE_Total population_Hispanic or Latino (of any race)',\n",
    " 'Unnamed: 0']"
   ]
  },
  {
   "cell_type": "code",
   "execution_count": 4,
   "metadata": {},
   "outputs": [],
   "source": [
    "\n",
    "df['Percent_RACE_Total population_One race_American Indian and Alaska Native Total'] = df[['Percent_RACE_Total population_One race_American Indian and Alaska Native_Cherokee tribal grouping', 'Percent_RACE_Total population_One race_American Indian and Alaska Native_Chippewa tribal grouping', 'Percent_RACE_Total population_One race_American Indian and Alaska Native_Navajo tribal grouping', 'Percent_RACE_Total population_One race_American Indian and Alaska Native_Sioux tribal grouping']].sum(axis=1)\n",
    "df['Percent_RACE_Total population_One race_Asian_Total'] = df[['Percent_RACE_Total population_One race_Asian_Asian Indian','Percent_RACE_Total population_One race_Asian_Chinese','Percent_RACE_Total population_One race_Asian_Filipino','Percent_RACE_Total population_One race_Asian_Japanese','Percent_RACE_Total population_One race_Asian_Korean','Percent_RACE_Total population_One race_Asian_Vietnamese','Percent_RACE_Total population_One race_Asian_Other Asian']].sum(axis=1)\n",
    "df['Percent_RACE_Total population_One race_Native Hawaiian and Other Pacific Islander_Total'] = df[['Percent_RACE_Total population_One race_Native Hawaiian and Other Pacific Islander_Native Hawaiian','Percent_RACE_Total population_One race_Native Hawaiian and Other Pacific Islander_Chamorro','Percent_RACE_Total population_One race_Native Hawaiian and Other Pacific Islander_Samoan','Percent_RACE_Total population_One race_Native Hawaiian and Other Pacific Islander_Other Pacific Islander']].sum(axis=1)\n",
    "df['Percent_RACE_Total population_Other_Hispanic'] = df[['Percent_RACE_Total population_One race_Some other race', 'Percent_HISPANIC OR LATINO AND RACE_Total population_Hispanic or Latino (of any race)']].sum(axis=1)"
   ]
  },
  {
   "cell_type": "code",
   "execution_count": 5,
   "metadata": {},
   "outputs": [],
   "source": [
    "df.drop(columns=df_remove, inplace=True)"
   ]
  },
  {
   "cell_type": "markdown",
   "metadata": {},
   "source": [
    "Feature Importance"
   ]
  },
  {
   "cell_type": "code",
   "execution_count": 6,
   "metadata": {},
   "outputs": [],
   "source": [
    "for column in df.columns:\n",
    "    df[column].fillna(df[column].mode()[0], inplace=True)"
   ]
  },
  {
   "cell_type": "code",
   "execution_count": 10,
   "metadata": {},
   "outputs": [
    {
     "name": "stdout",
     "output_type": "stream",
     "text": [
      "Optimal number of features: 7\n",
      "Feature: CountyFIPS, Importance: 7.763126741657673\n",
      "Feature: HPSA Score, Importance: 0.2688742463145655\n",
      "Feature: ACCESS2, Importance: -0.42722019884792606\n",
      "Feature: ARTHRITIS, Importance: -0.509609953700106\n",
      "Feature: BPHIGH, Importance: -0.5355173618501117\n",
      "Feature: BPMED, Importance: -0.5520635983949144\n",
      "Feature: BINGE, Importance: -0.5707752299274633\n"
     ]
    }
   ],
   "source": [
    "from sklearn.linear_model import LogisticRegression\n",
    "from sklearn.feature_selection import RFECV\n",
    "from sklearn.model_selection import StratifiedKFold\n",
    "\n",
    "# Assuming you have X as features and y as labels\n",
    "X = df.drop('HPSA Category', axis=1)  # all features excluding 'HPSA Category'\n",
    "y = df['HPSA Category']  # target variable\n",
    "\n",
    "# Create a Logistic Regression classifier\n",
    "lr = LogisticRegression(max_iter=10000)\n",
    "\n",
    "# Create RFECV object with custom step function for progress bar\n",
    "rfecv = RFECV(estimator=lr, step=1, cv=StratifiedKFold(10), scoring='f1')\n",
    "\n",
    "# Fit RFECV\n",
    "rfecv.fit(X, y)\n",
    "\n",
    "# Print the optimal number of features\n",
    "print('Optimal number of features: {}'.format(rfecv.n_features_))\n",
    "\n",
    "# Get the features sorted by importance\n",
    "feature_importance = list(zip(X.columns, rfecv.estimator_.coef_[0]))\n",
    "feature_importance = sorted(feature_importance, key=lambda x:x[1], reverse=True)\n",
    "\n",
    "# Print the most important features\n",
    "for feature, importance in feature_importance:\n",
    "    print('Feature: {}, Importance: {}'.format(feature, importance))\n",
    "\n",
    "# Keep only the most important features\n",
    "X_important = rfecv.transform(X)\n"
   ]
  },
  {
   "cell_type": "code",
   "execution_count": 7,
   "metadata": {},
   "outputs": [
    {
     "name": "stderr",
     "output_type": "stream",
     "text": [
      "RFECV:   0%|          | 0/57"
     ]
    },
    {
     "name": "stdout",
     "output_type": "stream",
     "text": [
      "Optimal number of features: 3\n",
      "Feature: CountyFIPS, Importance: 2.534600902408086\n",
      "Feature: HPSA Score, Importance: -0.34476566811946835\n",
      "Feature: ACCESS2, Importance: -0.3495180971937033\n"
     ]
    },
    {
     "name": "stderr",
     "output_type": "stream",
     "text": [
      "\n"
     ]
    }
   ],
   "source": [
    "from tqdm import tqdm\n",
    "from sklearn.svm import LinearSVC\n",
    "from sklearn.feature_selection import RFECV\n",
    "from sklearn.model_selection import StratifiedKFold\n",
    "\n",
    "# Assuming you have X as features and y as labels\n",
    "X = df.drop('HPSA Category', axis=1)  # all features excluding 'HPSA Category'\n",
    "y = df['HPSA Category']  # target variable\n",
    "\n",
    "# Create a LinearSVC classifier\n",
    "svc = LinearSVC()\n",
    "\n",
    "# Create RFECV object with custom step function for progress bar\n",
    "min_features_to_select = 1  # Minimum number of features to consider\n",
    "rfecv = RFECV(estimator=svc, step=1, cv=StratifiedKFold(5), scoring='f1', min_features_to_select=min_features_to_select)\n",
    "\n",
    "# Create a progress bar\n",
    "with tqdm(total=X.shape[1]-min_features_to_select, desc=\"RFECV\", bar_format='{l_bar}{bar}| {n_fmt}/{total_fmt}') as pbar:\n",
    "    def step_func(self):\n",
    "        pbar.update(1)\n",
    "    rfecv._step_callback = step_func\n",
    "\n",
    "    # Fit RFECV\n",
    "    rfecv.fit(X, y)\n",
    "\n",
    "# Print the optimal number of features\n",
    "print('Optimal number of features: {}'.format(rfecv.n_features_))\n",
    "\n",
    "# Get the features sorted by importance\n",
    "feature_importance = list(zip(X.columns, rfecv.estimator_.coef_[0]))\n",
    "feature_importance = sorted(feature_importance, key=lambda x:x[1], reverse=True)\n",
    "\n",
    "# Print the most important features\n",
    "for feature, importance in feature_importance:\n",
    "    print('Feature: {}, Importance: {}'.format(feature, importance))\n",
    "\n",
    "# Keep only the most important features\n",
    "X_important = rfecv.transform(X)\n"
   ]
  }
 ],
 "metadata": {
  "kernelspec": {
   "display_name": "Python 3",
   "language": "python",
   "name": "python3"
  },
  "language_info": {
   "codemirror_mode": {
    "name": "ipython",
    "version": 3
   },
   "file_extension": ".py",
   "mimetype": "text/x-python",
   "name": "python",
   "nbconvert_exporter": "python",
   "pygments_lexer": "ipython3",
   "version": "3.11.9"
  }
 },
 "nbformat": 4,
 "nbformat_minor": 2
}
